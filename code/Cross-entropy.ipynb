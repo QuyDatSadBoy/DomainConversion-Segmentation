{
 "cells": [
  {
   "cell_type": "markdown",
   "id": "41f34091-2dba-44ca-bf23-de2b0fd9dc74",
   "metadata": {},
   "source": [
    "## CE"
   ]
  },
  {
   "cell_type": "code",
   "execution_count": 1,
   "id": "cecaa6b0-638e-4903-a16e-71005a5d2154",
   "metadata": {},
   "outputs": [],
   "source": [
    "import torch.nn as nn\n",
    "import torch\n",
    "\n",
    "loss = nn.CrossEntropyLoss()"
   ]
  },
  {
   "cell_type": "code",
   "execution_count": 2,
   "id": "f3158c2e-201d-4783-b19c-7c25cacc18f6",
   "metadata": {},
   "outputs": [
    {
     "name": "stdout",
     "output_type": "stream",
     "text": [
      "tensor([[ 0.8100, -0.6500,  0.0700]])\n",
      "tensor([0])\n",
      "torch.Size([1, 3])\n",
      "torch.Size([1])\n"
     ]
    }
   ],
   "source": [
    "input = torch.Tensor([[0.81, -0.65, 0.07]])\n",
    "target = torch.Tensor([0]).long()\n",
    "\n",
    "print(input)\n",
    "print(target)\n",
    "\n",
    "print(input.shape)\n",
    "print(target.shape)"
   ]
  },
  {
   "cell_type": "code",
   "execution_count": 3,
   "id": "0588004e-a1d6-4f87-a1ce-e5ffbaeb3d8c",
   "metadata": {},
   "outputs": [
    {
     "name": "stdout",
     "output_type": "stream",
     "text": [
      "tensor(0.5361)\n"
     ]
    }
   ],
   "source": [
    "output = loss(input, target)\n",
    "print(output)"
   ]
  },
  {
   "cell_type": "code",
   "execution_count": null,
   "id": "3bba236f-60d4-4402-919e-d24ae60e59f3",
   "metadata": {},
   "outputs": [],
   "source": []
  },
  {
   "cell_type": "markdown",
   "id": "b7877afb-9254-4e7c-9053-7cba6fede0de",
   "metadata": {},
   "source": [
    "## Average of CE"
   ]
  },
  {
   "cell_type": "code",
   "execution_count": 25,
   "id": "318fe99e-fe8e-4592-8b99-6d5b60a9e6dd",
   "metadata": {},
   "outputs": [
    {
     "name": "stdout",
     "output_type": "stream",
     "text": [
      "torch.Size([1, 3, 2])\n",
      "torch.Size([1, 2])\n"
     ]
    }
   ],
   "source": [
    "input = torch.Tensor([[0.81, 0 ],\n",
    "                      [-0.65, 0],\n",
    "                      [0.07, 1]])\n",
    "input = input.reshape(1, 3, 2)\n",
    "\n",
    "target = torch.Tensor([[0, 2]]).long()\n",
    "\n",
    "print(input.shape)\n",
    "print(target.shape)"
   ]
  },
  {
   "cell_type": "code",
   "execution_count": 27,
   "id": "8860455c-4a58-4dd8-a7a7-10c26afc7b42",
   "metadata": {},
   "outputs": [
    {
     "name": "stdout",
     "output_type": "stream",
     "text": [
      "tensor([[0.5361, 0.5514]])\n"
     ]
    }
   ],
   "source": [
    "loss = nn.CrossEntropyLoss(reduce=False)\n",
    "output = loss(input, target)\n",
    "print(output)"
   ]
  },
  {
   "cell_type": "code",
   "execution_count": null,
   "id": "22908ad1-70f8-4dde-9ccc-c19824903bff",
   "metadata": {},
   "outputs": [],
   "source": []
  },
  {
   "cell_type": "code",
   "execution_count": 28,
   "id": "3c5d7d45-fab3-4a16-ae7a-4205e16a358e",
   "metadata": {},
   "outputs": [
    {
     "data": {
      "text/plain": [
       "array([0.58501763, 0.13586232, 0.27912005])"
      ]
     },
     "execution_count": 28,
     "metadata": {},
     "output_type": "execute_result"
    }
   ],
   "source": [
    "import numpy as np\n",
    "\n",
    "data = np.array([0.81, -0.65, 0.07])\n",
    "prob = np.e**data / np.sum(np.e**data)\n",
    "prob"
   ]
  },
  {
   "cell_type": "code",
   "execution_count": 29,
   "id": "23ba8474-9603-44df-a204-c94b5fe45fd1",
   "metadata": {},
   "outputs": [
    {
     "data": {
      "text/plain": [
       "0.5361132954522467"
      ]
     },
     "execution_count": 29,
     "metadata": {},
     "output_type": "execute_result"
    }
   ],
   "source": [
    "-np.log(0.58501763)"
   ]
  },
  {
   "cell_type": "code",
   "execution_count": null,
   "id": "e07d4ee4-0560-4a23-b6ea-7d3e023c063f",
   "metadata": {},
   "outputs": [],
   "source": []
  },
  {
   "cell_type": "code",
   "execution_count": 30,
   "id": "69e1ce53-f25a-45ab-b311-a6b3dc9bbfa0",
   "metadata": {},
   "outputs": [
    {
     "data": {
      "text/plain": [
       "array([0.21194156, 0.21194156, 0.57611688])"
      ]
     },
     "execution_count": 30,
     "metadata": {},
     "output_type": "execute_result"
    }
   ],
   "source": [
    "import numpy as np\n",
    "\n",
    "data = np.array([0, 0, 1])\n",
    "prob = np.e**data / np.sum(np.e**data)\n",
    "prob"
   ]
  },
  {
   "cell_type": "code",
   "execution_count": 31,
   "id": "8ef8d6ad-04ea-41cb-8041-f44ce92d3613",
   "metadata": {},
   "outputs": [
    {
     "data": {
      "text/plain": [
       "0.5514447222043812"
      ]
     },
     "execution_count": 31,
     "metadata": {},
     "output_type": "execute_result"
    }
   ],
   "source": [
    "-np.log(0.57611688)"
   ]
  },
  {
   "cell_type": "code",
   "execution_count": null,
   "id": "4d3dcd34-3946-44ea-9dc9-88785e587c8c",
   "metadata": {},
   "outputs": [],
   "source": []
  }
 ],
 "metadata": {
  "kernelspec": {
   "display_name": "Python 3 (ipykernel)",
   "language": "python",
   "name": "python3"
  },
  "language_info": {
   "codemirror_mode": {
    "name": "ipython",
    "version": 3
   },
   "file_extension": ".py",
   "mimetype": "text/x-python",
   "name": "python",
   "nbconvert_exporter": "python",
   "pygments_lexer": "ipython3",
   "version": "3.11.5"
  }
 },
 "nbformat": 4,
 "nbformat_minor": 5
}
